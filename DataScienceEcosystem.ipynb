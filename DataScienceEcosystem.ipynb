{
 "cells": [
  {
   "cell_type": "markdown",
   "id": "197b3bde-68a1-48ac-bb3b-52b34d697791",
   "metadata": {},
   "source": [
    "# Data Science Tools and Ecosystem"
   ]
  },
  {
   "cell_type": "markdown",
   "id": "9523a8e9-33f7-4a26-8fd5-173b84ca0b96",
   "metadata": {
    "tags": []
   },
   "source": [
    "In this notebook, Data Science Tools and Ecosystem are summarized"
   ]
  },
  {
   "cell_type": "markdown",
   "id": "69ceae54-158e-4ba5-81a0-d32bc4ec5624",
   "metadata": {},
   "source": [
    "- Listagem de Linguagens populares em ciência de dados;\n",
    "- Listagem de bibliotecas populares;\n",
    "- Aplicação de um cálculo matemático em Python;\n"
   ]
  },
  {
   "cell_type": "markdown",
   "id": "cc39ee62-e0b4-4d32-b294-30717c952615",
   "metadata": {
    "tags": []
   },
   "source": [
    "Algumas linguagens de ciências de dados mais comuns são:\n",
    "1. Python\n",
    "2. R\n",
    "3. Julia\n",
    "4. Scala"
   ]
  },
  {
   "cell_type": "markdown",
   "id": "a213bd8a-93c9-495c-8890-96d6d6f97abc",
   "metadata": {},
   "source": [
    "Algumas Bibliotecas comumente utilizadas em ciências de dados são?\n",
    "1. Pandas\n",
    "2. Numpy\n",
    "3. Seaborn\n",
    "4. TensorFlow\n",
    "5. Matplotlib"
   ]
  },
  {
   "cell_type": "markdown",
   "id": "040f01a7-58dc-4ffc-9f6e-935aff9bf746",
   "metadata": {},
   "source": [
    "| Data Science Tools |\n",
    "----------------------\n",
    "| Jupyter Notebook   |\n",
    "| Google Colab |\n",
    "| R Studio|"
   ]
  },
  {
   "cell_type": "markdown",
   "id": "bf82051c-02a6-4a5e-ac2d-6c1b00876d79",
   "metadata": {},
   "source": [
    "### Vejamos alguns exemplos de cálculo matemático com Python:\n",
    "\n"
   ]
  },
  {
   "cell_type": "code",
   "execution_count": 9,
   "id": "028939b4-6c66-4563-b15e-0af3e2ce169d",
   "metadata": {
    "tags": []
   },
   "outputs": [
    {
     "name": "stdout",
     "output_type": "stream",
     "text": [
      "O resultado da opeação foi =  17\n"
     ]
    }
   ],
   "source": [
    "valor1 = 3\n",
    "valor2 = 4\n",
    "valor3 = 5\n",
    "resultado = (valor1 * valor2) + valor3\n",
    "print('O resultado da opeação foi = ', resultado)"
   ]
  },
  {
   "cell_type": "code",
   "execution_count": 15,
   "id": "e9198072-f76a-4927-93b8-02547589fb83",
   "metadata": {
    "tags": []
   },
   "outputs": [
    {
     "name": "stdout",
     "output_type": "stream",
     "text": [
      "Para converter minutos em horas, basta dividir por 60. Sendo assim, 200 minutos é =  3.33 horas\n"
     ]
    }
   ],
   "source": [
    "minutos = 200\n",
    "operacao = minutos/60\n",
    "horas = round(operacao,2)\n",
    "print(\"Para converter minutos em horas, basta dividir por 60. Sendo assim, 200 minutos é = \", horas, \"horas\")"
   ]
  },
  {
   "cell_type": "markdown",
   "id": "2c94f52c-f82f-47f3-91d5-81500160618c",
   "metadata": {},
   "source": [
    "## Autor\n",
    "Leandro Oliveira"
   ]
  },
  {
   "cell_type": "code",
   "execution_count": null,
   "id": "92b4a4db-d8c7-4125-ab10-7c57fde275e1",
   "metadata": {},
   "outputs": [],
   "source": []
  }
 ],
 "metadata": {
  "kernelspec": {
   "display_name": "Python",
   "language": "python",
   "name": "conda-env-python-py"
  },
  "language_info": {
   "codemirror_mode": {
    "name": "ipython",
    "version": 3
   },
   "file_extension": ".py",
   "mimetype": "text/x-python",
   "name": "python",
   "nbconvert_exporter": "python",
   "pygments_lexer": "ipython3",
   "version": "3.7.12"
  }
 },
 "nbformat": 4,
 "nbformat_minor": 5
}
